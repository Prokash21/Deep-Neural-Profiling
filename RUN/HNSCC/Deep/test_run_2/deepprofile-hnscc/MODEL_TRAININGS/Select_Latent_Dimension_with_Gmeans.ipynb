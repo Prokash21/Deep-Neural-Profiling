{
 "cells": [
  {
   "cell_type": "code",
   "execution_count": null,
   "metadata": {},
   "outputs": [],
   "source": [
    "###############################\n",
    "#g-means training to select ensemble latent dimension size\n",
    "\n",
    "###############################\n",
    "\n",
    "import numpy as np\n",
    "import pandas as pd\n",
    "import csv\n",
    "from sklearn.decomposition import PCA\n",
    "import sklearn.preprocessing\n",
    "\n",
    "import pandas as pd\n",
    "import numpy as np\n",
    "import csv\n",
    "import sys"
   ]
  },
  {
   "cell_type": "code",
   "execution_count": 2,
   "metadata": {},
   "outputs": [
    {
     "name": "stdout",
     "output_type": "stream",
     "text": [
      "************************* BRCA\n",
      "Joined_df  (11963, 26500)\n",
      "(26500, 11963)\n"
     ]
    },
    {
     "name": "stderr",
     "output_type": "stream",
     "text": [
      "/homes/gws/abdincer/.local/lib/python3.6/site-packages/statsmodels/tools/_testing.py:19: FutureWarning: pandas.util.testing is deprecated. Use the functions in the public API at pandas.testing instead.\n",
      "  import pandas.util.testing as tm\n"
     ]
    },
    {
     "name": "stdout",
     "output_type": "stream",
     "text": [
      "Selected dimension  228\n",
      "************************* COLON\n",
      "Joined_df  (5616, 26500)\n",
      "(26500, 5616)\n",
      "Selected dimension  195\n",
      "************************* LUNG\n",
      "Joined_df  (4869, 26500)\n",
      "(26500, 4869)\n",
      "Selected dimension  166\n",
      "************************* AML\n",
      "Joined_df  (6534, 26500)\n",
      "(26500, 6534)\n",
      "Selected dimension  57\n",
      "************************* BRAIN\n",
      "Joined_df  (4282, 26500)\n",
      "(26500, 4282)\n",
      "Selected dimension  192\n",
      "************************* SKIN\n",
      "Joined_df  (1240, 26500)\n",
      "(26500, 1240)\n",
      "Selected dimension  165\n",
      "************************* SARCOMA\n",
      "Joined_df  (2330, 26500)\n",
      "(26500, 2330)\n",
      "Selected dimension  162\n",
      "************************* LIVER\n",
      "Joined_df  (1937, 26500)\n",
      "(26500, 1937)\n",
      "Selected dimension  168\n",
      "************************* KIDNEY\n",
      "Joined_df  (2293, 26500)\n",
      "(26500, 2293)\n",
      "Selected dimension  123\n",
      "************************* OV\n",
      "Joined_df  (2714, 26500)\n",
      "(26500, 2714)\n",
      "Selected dimension  178\n",
      "************************* PROSTATE\n",
      "Joined_df  (1195, 26500)\n",
      "(26500, 1195)\n",
      "Selected dimension  163\n",
      "************************* CERVICAL\n",
      "Joined_df  (443, 26500)\n",
      "(26500, 443)\n",
      "Selected dimension  142\n",
      "************************* BLADDER\n",
      "Joined_df  (371, 26500)\n",
      "(26500, 371)\n",
      "Selected dimension  136\n",
      "************************* STOMACH\n",
      "Joined_df  (1742, 26500)\n",
      "(26500, 1742)\n",
      "Selected dimension  137\n",
      "************************* THYROID\n",
      "Joined_df  (776, 26500)\n",
      "(26500, 776)\n",
      "Selected dimension  160\n",
      "************************* UTERINE\n",
      "Joined_df  (661, 26500)\n",
      "(26500, 661)\n",
      "Selected dimension  156\n",
      "************************* HEAD_NECK\n",
      "Joined_df  (643, 26500)\n",
      "(26500, 643)\n",
      "Selected dimension  156\n",
      "************************* PANCREAS\n",
      "Joined_df  (602, 26500)\n",
      "(26500, 602)\n",
      "Selected dimension  145\n"
     ]
    }
   ],
   "source": [
    "cancer_types = ['BRCA', 'COLON', 'LUNG', 'AML',\n",
    "                'BRAIN', 'SKIN', 'SARCOMA', 'LIVER', \n",
    "                'KIDNEY', 'OV','PROSTATE', 'CERVICAL', \n",
    "                'BLADDER', 'STOMACH', 'THYROID', 'UTERINE', \n",
    "                'HEAD_NECK', 'PANCREAS']\n",
    "    \n",
    "L_values = []\n",
    "for cancer_type in cancer_types:\n",
    "    print(\"************************* \" + cancer_type)\n",
    "    input_folder = '../ALL_CANCER_FILES/' + cancer_type + '/VAE_FILES/'  \n",
    "\n",
    "    #all encodings for one dimension\n",
    "    dims  = [5, 10, 25, 50, 75, 100]\n",
    "\n",
    "    data_list = []\n",
    "\n",
    "    for dim in dims:\n",
    "        run = 100\n",
    "        for i in range(run):\n",
    "            #print(i + 1)\n",
    "            data_df = pd.read_table(input_folder + cancer_type + '_DATA_TOP2_JOINED_encoded_' + str(dim) + 'L_TRAINING_fold' + str(i) + '.tsv', index_col = 0)      \n",
    "            #print(data_df.shape)\n",
    "            data_list.append(data_df.values)\n",
    "\n",
    "\n",
    "    joined_df = np.concatenate(data_list, axis=1)\n",
    "    print(\"Joined_df \", joined_df.shape)\n",
    "\n",
    "    #Apply kmeans clustering to this data\n",
    "    from sklearn.cluster import KMeans\n",
    "    import numpy as np\n",
    "    X = joined_df.T\n",
    "    print(X.shape)\n",
    "    \n",
    "    from gmeans import *\n",
    "    gmeans = GMeans(strictness=3, random_state = 12345)\n",
    "    gmeans.fit(X)\n",
    "    gmeans.labels_\n",
    "    selected_L = len(np.unique(gmeans.labels_))\n",
    "    print(\"Selected dimension \", selected_L)\n",
    "    \n",
    "    L_values.append(selected_L)\n",
    "\n"
   ]
  },
  {
   "cell_type": "code",
   "execution_count": 3,
   "metadata": {},
   "outputs": [
    {
     "name": "stdout",
     "output_type": "stream",
     "text": [
      "[228, 195, 166, 57, 192, 165, 162, 168, 123, 178, 163, 142, 136, 137, 160, 156, 156, 145]\n",
      "157.16666666666666\n"
     ]
    }
   ],
   "source": [
    "print(L_values)\n",
    "print(np.mean(L_values))"
   ]
  },
  {
   "cell_type": "code",
   "execution_count": null,
   "metadata": {},
   "outputs": [],
   "source": []
  }
 ],
 "metadata": {
  "kernelspec": {
   "display_name": "Python 3",
   "language": "python",
   "name": "python3"
  },
  "language_info": {
   "codemirror_mode": {
    "name": "ipython",
    "version": 3
   },
   "file_extension": ".py",
   "mimetype": "text/x-python",
   "name": "python",
   "nbconvert_exporter": "python",
   "pygments_lexer": "ipython3",
   "version": "3.6.8"
  }
 },
 "nbformat": 4,
 "nbformat_minor": 4
}
