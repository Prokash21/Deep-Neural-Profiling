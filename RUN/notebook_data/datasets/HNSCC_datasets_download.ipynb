{
 "cells": [
  {
   "cell_type": "code",
   "execution_count": 1,
   "id": "c62706db-4c1c-444b-ae41-40ae4b88ea31",
   "metadata": {},
   "outputs": [
    {
     "name": "stdout",
     "output_type": "stream",
     "text": [
      "Requirement already satisfied: pandas in c:\\users\\joy21\\anaconda3\\envs\\myenv\\lib\\site-packages (2.3.0)\n",
      "Requirement already satisfied: GEOparse in c:\\users\\joy21\\anaconda3\\envs\\myenv\\lib\\site-packages (2.0.4)\n",
      "Requirement already satisfied: numpy>=1.23.2 in c:\\users\\joy21\\anaconda3\\envs\\myenv\\lib\\site-packages (from pandas) (2.3.0)\n",
      "Requirement already satisfied: python-dateutil>=2.8.2 in c:\\users\\joy21\\anaconda3\\envs\\myenv\\lib\\site-packages (from pandas) (2.9.0.post0)\n",
      "Requirement already satisfied: pytz>=2020.1 in c:\\users\\joy21\\anaconda3\\envs\\myenv\\lib\\site-packages (from pandas) (2025.2)\n",
      "Requirement already satisfied: tzdata>=2022.7 in c:\\users\\joy21\\anaconda3\\envs\\myenv\\lib\\site-packages (from pandas) (2025.2)\n",
      "Requirement already satisfied: requests>=2.21.0 in c:\\users\\joy21\\anaconda3\\envs\\myenv\\lib\\site-packages (from GEOparse) (2.32.4)\n",
      "Requirement already satisfied: tqdm>=4.31.1 in c:\\users\\joy21\\anaconda3\\envs\\myenv\\lib\\site-packages (from GEOparse) (4.67.1)\n",
      "Requirement already satisfied: six>=1.5 in c:\\users\\joy21\\anaconda3\\envs\\myenv\\lib\\site-packages (from python-dateutil>=2.8.2->pandas) (1.17.0)\n",
      "Requirement already satisfied: charset_normalizer<4,>=2 in c:\\users\\joy21\\anaconda3\\envs\\myenv\\lib\\site-packages (from requests>=2.21.0->GEOparse) (3.4.2)\n",
      "Requirement already satisfied: idna<4,>=2.5 in c:\\users\\joy21\\anaconda3\\envs\\myenv\\lib\\site-packages (from requests>=2.21.0->GEOparse) (3.10)\n",
      "Requirement already satisfied: urllib3<3,>=1.21.1 in c:\\users\\joy21\\anaconda3\\envs\\myenv\\lib\\site-packages (from requests>=2.21.0->GEOparse) (2.5.0)\n",
      "Requirement already satisfied: certifi>=2017.4.17 in c:\\users\\joy21\\anaconda3\\envs\\myenv\\lib\\site-packages (from requests>=2.21.0->GEOparse) (2025.6.15)\n",
      "Requirement already satisfied: colorama in c:\\users\\joy21\\anaconda3\\envs\\myenv\\lib\\site-packages (from tqdm>=4.31.1->GEOparse) (0.4.6)\n"
     ]
    }
   ],
   "source": [
    "import sys\n",
    "!{sys.executable} -m pip install pandas GEOparse\n"
   ]
  },
  {
   "cell_type": "code",
   "execution_count": 2,
   "id": "2e3bcc8d-0413-494f-8b98-1f59896f0367",
   "metadata": {},
   "outputs": [
    {
     "name": "stdout",
     "output_type": "stream",
     "text": [
      "Requirement already satisfied: pandas in c:\\users\\joy21\\anaconda3\\lib\\site-packages (2.2.2)\n",
      "Requirement already satisfied: GEOparse in c:\\users\\joy21\\anaconda3\\lib\\site-packages (2.0.4)\n",
      "Requirement already satisfied: numpy>=1.26.0 in c:\\users\\joy21\\anaconda3\\lib\\site-packages (from pandas) (1.26.4)\n",
      "Requirement already satisfied: python-dateutil>=2.8.2 in c:\\users\\joy21\\anaconda3\\lib\\site-packages (from pandas) (2.9.0.post0)\n",
      "Requirement already satisfied: pytz>=2020.1 in c:\\users\\joy21\\anaconda3\\lib\\site-packages (from pandas) (2024.1)\n",
      "Requirement already satisfied: tzdata>=2022.7 in c:\\users\\joy21\\anaconda3\\lib\\site-packages (from pandas) (2023.3)\n",
      "Requirement already satisfied: requests>=2.21.0 in c:\\users\\joy21\\anaconda3\\lib\\site-packages (from GEOparse) (2.32.3)\n",
      "Requirement already satisfied: tqdm>=4.31.1 in c:\\users\\joy21\\anaconda3\\lib\\site-packages (from GEOparse) (4.66.5)\n",
      "Requirement already satisfied: six>=1.5 in c:\\users\\joy21\\anaconda3\\lib\\site-packages (from python-dateutil>=2.8.2->pandas) (1.16.0)\n",
      "Requirement already satisfied: charset-normalizer<4,>=2 in c:\\users\\joy21\\anaconda3\\lib\\site-packages (from requests>=2.21.0->GEOparse) (3.3.2)\n",
      "Requirement already satisfied: idna<4,>=2.5 in c:\\users\\joy21\\anaconda3\\lib\\site-packages (from requests>=2.21.0->GEOparse) (3.7)\n",
      "Requirement already satisfied: urllib3<3,>=1.21.1 in c:\\users\\joy21\\anaconda3\\lib\\site-packages (from requests>=2.21.0->GEOparse) (2.2.3)\n",
      "Requirement already satisfied: certifi>=2017.4.17 in c:\\users\\joy21\\anaconda3\\lib\\site-packages (from requests>=2.21.0->GEOparse) (2025.4.26)\n",
      "Requirement already satisfied: colorama in c:\\users\\joy21\\anaconda3\\lib\\site-packages (from tqdm>=4.31.1->GEOparse) (0.4.6)\n",
      "Requirement already satisfied: pandas in c:\\users\\joy21\\anaconda3\\lib\\site-packages (2.2.2)\n",
      "Requirement already satisfied: numpy>=1.26.0 in c:\\users\\joy21\\anaconda3\\lib\\site-packages (from pandas) (1.26.4)\n",
      "Requirement already satisfied: python-dateutil>=2.8.2 in c:\\users\\joy21\\anaconda3\\lib\\site-packages (from pandas) (2.9.0.post0)\n",
      "Requirement already satisfied: pytz>=2020.1 in c:\\users\\joy21\\anaconda3\\lib\\site-packages (from pandas) (2024.1)\n",
      "Requirement already satisfied: tzdata>=2022.7 in c:\\users\\joy21\\anaconda3\\lib\\site-packages (from pandas) (2023.3)\n",
      "Requirement already satisfied: six>=1.5 in c:\\users\\joy21\\anaconda3\\lib\\site-packages (from python-dateutil>=2.8.2->pandas) (1.16.0)\n"
     ]
    }
   ],
   "source": [
    "!pip install pandas GEOparse\n",
    "!pip install pandas\n"
   ]
  },
  {
   "cell_type": "code",
   "execution_count": 3,
   "id": "75cf77de-01b0-4e2a-9d66-b5ce84b7f36d",
   "metadata": {},
   "outputs": [
    {
     "name": "stdout",
     "output_type": "stream",
     "text": [
      "Python 3.12.7\n"
     ]
    }
   ],
   "source": [
    "!python --version\n"
   ]
  },
  {
   "cell_type": "code",
   "execution_count": 4,
   "id": "a3d0deb3-6014-448f-b2b5-feb720f747d0",
   "metadata": {},
   "outputs": [
    {
     "name": "stdout",
     "output_type": "stream",
     "text": [
      "pip 24.2 from C:\\Users\\joy21\\anaconda3\\Lib\\site-packages\\pip (python 3.12)\n",
      "\n"
     ]
    }
   ],
   "source": [
    "!pip --version\n"
   ]
  },
  {
   "cell_type": "code",
   "execution_count": 5,
   "id": "556f1cc0-86a9-4bcd-af25-0721f7d01744",
   "metadata": {},
   "outputs": [
    {
     "name": "stdout",
     "output_type": "stream",
     "text": [
      "Python 3.12.7\n"
     ]
    }
   ],
   "source": [
    "!python --version\n"
   ]
  },
  {
   "cell_type": "code",
   "execution_count": 6,
   "id": "16c676e4-59a3-42bd-8eba-8e82f9453ea9",
   "metadata": {},
   "outputs": [
    {
     "name": "stdout",
     "output_type": "stream",
     "text": [
      "C:\\Users\\joy21\\anaconda3\\envs\\myenv\\python.exe\n"
     ]
    }
   ],
   "source": [
    "import sys\n",
    "print(sys.executable)\n"
   ]
  },
  {
   "cell_type": "code",
   "execution_count": 9,
   "id": "45406f22-7e42-4656-9896-a66fdeb0f932",
   "metadata": {},
   "outputs": [],
   "source": [
    "import GEOparse\n",
    "import pandas as pd\n"
   ]
  },
  {
   "cell_type": "code",
   "execution_count": 10,
   "id": "463f67ed-b5a1-40e5-b5e3-00fffbf55ac0",
   "metadata": {},
   "outputs": [
    {
     "name": "stderr",
     "output_type": "stream",
     "text": [
      "20-Jun-2025 21:08:06 INFO GEOparse - Downloading ftp://ftp.ncbi.nlm.nih.gov/geo/series/GSE178nnn/GSE178537/soft/GSE178537_family.soft.gz to ./GEO_data\\GSE178537_family.soft.gz\n",
      "100%|█████████████████████████████████████████████████████████████████████████████| 5.23k/5.23k [00:02<00:00, 2.16kB/s]\n",
      "20-Jun-2025 21:08:10 DEBUG downloader - Size validation passed\n",
      "20-Jun-2025 21:08:10 DEBUG downloader - Moving C:\\Users\\joy21\\AppData\\Local\\Temp\\tmpubtib1jw to E:\\DWCT\\Papia Mam\\Cancer\\GitHub\\Cancer_Project_BMU\\RUN\\notebook_data\\datasets\\GEO_data\\GSE178537_family.soft.gz\n",
      "20-Jun-2025 21:08:10 DEBUG downloader - Successfully downloaded ftp://ftp.ncbi.nlm.nih.gov/geo/series/GSE178nnn/GSE178537/soft/GSE178537_family.soft.gz\n",
      "20-Jun-2025 21:08:10 INFO GEOparse - Parsing ./GEO_data\\GSE178537_family.soft.gz: \n",
      "20-Jun-2025 21:08:10 DEBUG GEOparse - DATABASE: GeoMiame\n",
      "20-Jun-2025 21:08:10 DEBUG GEOparse - SERIES: GSE178537\n",
      "20-Jun-2025 21:08:10 DEBUG GEOparse - PLATFORM: GPL16791\n",
      "20-Jun-2025 21:08:10 DEBUG GEOparse - PLATFORM: GPL18573\n",
      "20-Jun-2025 21:08:10 DEBUG GEOparse - SAMPLE: GSM5393475\n",
      "20-Jun-2025 21:08:10 DEBUG GEOparse - SAMPLE: GSM5393476\n",
      "20-Jun-2025 21:08:10 DEBUG GEOparse - SAMPLE: GSM5393477\n",
      "20-Jun-2025 21:08:10 DEBUG GEOparse - SAMPLE: GSM5393478\n",
      "20-Jun-2025 21:08:10 DEBUG GEOparse - SAMPLE: GSM5393479\n",
      "20-Jun-2025 21:08:10 DEBUG GEOparse - SAMPLE: GSM5393480\n",
      "20-Jun-2025 21:08:10 DEBUG GEOparse - SAMPLE: GSM5393481\n",
      "20-Jun-2025 21:08:10 DEBUG GEOparse - SAMPLE: GSM5393482\n",
      "20-Jun-2025 21:08:10 DEBUG GEOparse - SAMPLE: GSM5393483\n",
      "20-Jun-2025 21:08:10 DEBUG GEOparse - SAMPLE: GSM5393484\n",
      "20-Jun-2025 21:08:10 DEBUG GEOparse - SAMPLE: GSM5393485\n",
      "20-Jun-2025 21:08:10 DEBUG GEOparse - SAMPLE: GSM5393486\n",
      "20-Jun-2025 21:08:10 DEBUG GEOparse - SAMPLE: GSM5393487\n",
      "20-Jun-2025 21:08:10 DEBUG GEOparse - SAMPLE: GSM5393488\n",
      "20-Jun-2025 21:08:10 DEBUG GEOparse - SAMPLE: GSM5393489\n",
      "20-Jun-2025 21:08:10 DEBUG GEOparse - SAMPLE: GSM5393490\n",
      "20-Jun-2025 21:08:10 DEBUG GEOparse - SAMPLE: GSM5393491\n",
      "20-Jun-2025 21:08:10 DEBUG GEOparse - SAMPLE: GSM5393492\n",
      "20-Jun-2025 21:08:10 DEBUG GEOparse - SAMPLE: GSM5393493\n",
      "20-Jun-2025 21:08:10 DEBUG GEOparse - SAMPLE: GSM5393494\n",
      "20-Jun-2025 21:08:10 DEBUG GEOparse - SAMPLE: GSM5393495\n",
      "20-Jun-2025 21:08:10 DEBUG GEOparse - SAMPLE: GSM5393496\n",
      "20-Jun-2025 21:08:10 DEBUG GEOparse - SAMPLE: GSM5393497\n",
      "20-Jun-2025 21:08:10 DEBUG GEOparse - SAMPLE: GSM5393498\n",
      "20-Jun-2025 21:08:10 DEBUG GEOparse - SAMPLE: GSM5393499\n",
      "20-Jun-2025 21:08:10 DEBUG GEOparse - SAMPLE: GSM5393500\n",
      "20-Jun-2025 21:08:10 DEBUG GEOparse - SAMPLE: GSM5393501\n",
      "20-Jun-2025 21:08:10 DEBUG GEOparse - SAMPLE: GSM5393502\n",
      "20-Jun-2025 21:08:10 DEBUG GEOparse - SAMPLE: GSM5393503\n",
      "20-Jun-2025 21:08:10 DEBUG GEOparse - SAMPLE: GSM5393504\n",
      "20-Jun-2025 21:08:10 DEBUG GEOparse - SAMPLE: GSM5393505\n",
      "20-Jun-2025 21:08:10 DEBUG GEOparse - SAMPLE: GSM5393506\n",
      "20-Jun-2025 21:08:10 DEBUG GEOparse - SAMPLE: GSM5393507\n",
      "20-Jun-2025 21:08:10 DEBUG GEOparse - SAMPLE: GSM5393508\n",
      "20-Jun-2025 21:08:11 DEBUG GEOparse - SAMPLE: GSM5393509\n",
      "20-Jun-2025 21:08:11 DEBUG GEOparse - SAMPLE: GSM5393510\n",
      "20-Jun-2025 21:08:11 DEBUG GEOparse - SAMPLE: GSM5393511\n",
      "20-Jun-2025 21:08:11 DEBUG GEOparse - SAMPLE: GSM5393512\n",
      "20-Jun-2025 21:08:11 DEBUG GEOparse - SAMPLE: GSM5393513\n",
      "20-Jun-2025 21:08:11 DEBUG GEOparse - SAMPLE: GSM5393514\n",
      "20-Jun-2025 21:08:11 DEBUG GEOparse - SAMPLE: GSM5393515\n",
      "20-Jun-2025 21:08:11 DEBUG GEOparse - SAMPLE: GSM5393516\n",
      "20-Jun-2025 21:08:11 DEBUG GEOparse - SAMPLE: GSM5393517\n",
      "20-Jun-2025 21:08:11 DEBUG GEOparse - SAMPLE: GSM5393518\n",
      "20-Jun-2025 21:08:11 DEBUG GEOparse - SAMPLE: GSM5393519\n",
      "20-Jun-2025 21:08:11 DEBUG GEOparse - SAMPLE: GSM5393520\n",
      "20-Jun-2025 21:08:11 DEBUG GEOparse - SAMPLE: GSM5393521\n",
      "20-Jun-2025 21:08:11 DEBUG GEOparse - SAMPLE: GSM5393522\n",
      "20-Jun-2025 21:08:11 DEBUG GEOparse - SAMPLE: GSM5393523\n",
      "20-Jun-2025 21:08:11 DEBUG GEOparse - SAMPLE: GSM5393524\n",
      "20-Jun-2025 21:08:11 DEBUG GEOparse - SAMPLE: GSM5393525\n",
      "20-Jun-2025 21:08:11 DEBUG GEOparse - SAMPLE: GSM5393526\n",
      "20-Jun-2025 21:08:11 DEBUG GEOparse - SAMPLE: GSM5393527\n",
      "20-Jun-2025 21:08:11 DEBUG GEOparse - SAMPLE: GSM5393528\n",
      "20-Jun-2025 21:08:11 DEBUG GEOparse - SAMPLE: GSM5393529\n",
      "20-Jun-2025 21:08:11 DEBUG GEOparse - SAMPLE: GSM5393530\n",
      "20-Jun-2025 21:08:11 DEBUG GEOparse - SAMPLE: GSM5393531\n",
      "20-Jun-2025 21:08:11 DEBUG GEOparse - SAMPLE: GSM5393532\n",
      "20-Jun-2025 21:08:11 DEBUG GEOparse - SAMPLE: GSM5393533\n",
      "20-Jun-2025 21:08:11 DEBUG GEOparse - SAMPLE: GSM5393534\n",
      "20-Jun-2025 21:08:11 DEBUG GEOparse - SAMPLE: GSM5393535\n",
      "20-Jun-2025 21:08:11 DEBUG GEOparse - SAMPLE: GSM5393536\n",
      "20-Jun-2025 21:08:11 DEBUG GEOparse - SAMPLE: GSM5393537\n",
      "20-Jun-2025 21:08:11 DEBUG GEOparse - SAMPLE: GSM5393538\n",
      "20-Jun-2025 21:08:11 DEBUG GEOparse - SAMPLE: GSM5393539\n"
     ]
    }
   ],
   "source": [
    "# Automatically downloads and parses the GSE178537 dataset\n",
    "gse = GEOparse.get_GEO(\"GSE178537\", destdir=\"./GEO_data\", how=\"full\")\n"
   ]
  },
  {
   "cell_type": "code",
   "execution_count": 11,
   "id": "b57f25dc-15fd-4b93-9f4f-5735aa5c55ca",
   "metadata": {},
   "outputs": [
    {
     "data": {
      "text/plain": [
       "{'title': ['Investigation of head and neck squamous carcinoma (HNSCC) spatial transcriptome evolution'],\n",
       " 'geo_accession': ['GSE178537'],\n",
       " 'status': ['Public on Aug 29 2022'],\n",
       " 'submission_date': ['Jun 21 2021'],\n",
       " 'last_update_date': ['Sep 14 2023'],\n",
       " 'pubmed_id': ['36002186', '37586318'],\n",
       " 'summary': ['We collected matched pairs of primary tumor (invasive front and intra-tumor region), metastatic region and adjacent normal tissue from head and neck squamous cell carcinoma patients at the Taipei Veterans General Hospital (TVGH) for RNA sequencing analysis.'],\n",
       " 'overall_design': ['RNA Sequencing of HNSCC pateint tumor in different part'],\n",
       " 'type': ['Expression profiling by high throughput sequencing'],\n",
       " 'contributor': ['Muh-Hwa,,Yang', 'Shyh-Kuan,,Tai', 'Chih-Hung,,Chung'],\n",
       " 'sample_id': ['GSM5393475',\n",
       "  'GSM5393476',\n",
       "  'GSM5393477',\n",
       "  'GSM5393478',\n",
       "  'GSM5393479',\n",
       "  'GSM5393480',\n",
       "  'GSM5393481',\n",
       "  'GSM5393482',\n",
       "  'GSM5393483',\n",
       "  'GSM5393484',\n",
       "  'GSM5393485',\n",
       "  'GSM5393486',\n",
       "  'GSM5393487',\n",
       "  'GSM5393488',\n",
       "  'GSM5393489',\n",
       "  'GSM5393490',\n",
       "  'GSM5393491',\n",
       "  'GSM5393492',\n",
       "  'GSM5393493',\n",
       "  'GSM5393494',\n",
       "  'GSM5393495',\n",
       "  'GSM5393496',\n",
       "  'GSM5393497',\n",
       "  'GSM5393498',\n",
       "  'GSM5393499',\n",
       "  'GSM5393500',\n",
       "  'GSM5393501',\n",
       "  'GSM5393502',\n",
       "  'GSM5393503',\n",
       "  'GSM5393504',\n",
       "  'GSM5393505',\n",
       "  'GSM5393506',\n",
       "  'GSM5393507',\n",
       "  'GSM5393508',\n",
       "  'GSM5393509',\n",
       "  'GSM5393510',\n",
       "  'GSM5393511',\n",
       "  'GSM5393512',\n",
       "  'GSM5393513',\n",
       "  'GSM5393514',\n",
       "  'GSM5393515',\n",
       "  'GSM5393516',\n",
       "  'GSM5393517',\n",
       "  'GSM5393518',\n",
       "  'GSM5393519',\n",
       "  'GSM5393520',\n",
       "  'GSM5393521',\n",
       "  'GSM5393522',\n",
       "  'GSM5393523',\n",
       "  'GSM5393524',\n",
       "  'GSM5393525',\n",
       "  'GSM5393526',\n",
       "  'GSM5393527',\n",
       "  'GSM5393528',\n",
       "  'GSM5393529',\n",
       "  'GSM5393530',\n",
       "  'GSM5393531',\n",
       "  'GSM5393532',\n",
       "  'GSM5393533',\n",
       "  'GSM5393534',\n",
       "  'GSM5393535',\n",
       "  'GSM5393536',\n",
       "  'GSM5393537',\n",
       "  'GSM5393538',\n",
       "  'GSM5393539'],\n",
       " 'contact_name': ['Chih-Hung,,Chung'],\n",
       " 'contact_email': ['senisc@gmail.com'],\n",
       " 'contact_department': ['Institute of Clinical Medicine'],\n",
       " 'contact_institute': ['National Yang Ming Chiao Tung University'],\n",
       " 'contact_address': ['No.155, Sec.2, Linong Street, Taipei, 112 Taiwan (ROC)'],\n",
       " 'contact_city': ['Taipei'],\n",
       " 'contact_zip/postal_code': ['112'],\n",
       " 'contact_country': ['Taiwan'],\n",
       " 'supplementary_file': ['ftp://ftp.ncbi.nlm.nih.gov/geo/series/GSE178nnn/GSE178537/suppl/GSE178537_HNSCC_Patient_FPKM.txt.gz',\n",
       "  'ftp://ftp.ncbi.nlm.nih.gov/geo/series/GSE178nnn/GSE178537/suppl/GSE178537_HNSCC_Patient_TPM.txt.gz',\n",
       "  'ftp://ftp.ncbi.nlm.nih.gov/geo/series/GSE178nnn/GSE178537/suppl/GSE178537_HNSCC_Patient_expected_count.txt.gz',\n",
       "  'ftp://ftp.ncbi.nlm.nih.gov/geo/series/GSE178nnn/GSE178537/suppl/GSE178537_HNSCC_Patient_rld.txt.gz'],\n",
       " 'platform_id': ['GPL16791', 'GPL18573'],\n",
       " 'platform_taxid': ['9606'],\n",
       " 'sample_taxid': ['9606'],\n",
       " 'relation': ['BioProject: https://www.ncbi.nlm.nih.gov/bioproject/PRJNA739573',\n",
       "  'SRA: https://www.ncbi.nlm.nih.gov/sra?term=SRP324804']}"
      ]
     },
     "execution_count": 11,
     "metadata": {},
     "output_type": "execute_result"
    }
   ],
   "source": [
    "# Series-level metadata\n",
    "gse.metadata\n"
   ]
  },
  {
   "cell_type": "code",
   "execution_count": 12,
   "id": "5ab28cbd-88c1-4b1b-8826-08906b7302a0",
   "metadata": {},
   "outputs": [
    {
     "name": "stdout",
     "output_type": "stream",
     "text": [
      "Number of samples: 65\n",
      "['GSM5393475', 'GSM5393476', 'GSM5393477', 'GSM5393478', 'GSM5393479']\n"
     ]
    }
   ],
   "source": [
    "sample_ids = list(gse.gsms.keys())\n",
    "print(\"Number of samples:\", len(sample_ids))\n",
    "print(sample_ids[:5])  # Preview\n"
   ]
  },
  {
   "cell_type": "code",
   "execution_count": 14,
   "id": "f0e7cf87-590a-4b1d-a84f-a2ccdc2b8f59",
   "metadata": {},
   "outputs": [
    {
     "data": {
      "text/html": [
       "<div>\n",
       "<style scoped>\n",
       "    .dataframe tbody tr th:only-of-type {\n",
       "        vertical-align: middle;\n",
       "    }\n",
       "\n",
       "    .dataframe tbody tr th {\n",
       "        vertical-align: top;\n",
       "    }\n",
       "\n",
       "    .dataframe thead th {\n",
       "        text-align: right;\n",
       "    }\n",
       "</style>\n",
       "<table border=\"1\" class=\"dataframe\">\n",
       "  <thead>\n",
       "    <tr style=\"text-align: right;\">\n",
       "      <th></th>\n",
       "      <th>GSM_ID</th>\n",
       "      <th>title</th>\n",
       "      <th>geo_accession</th>\n",
       "      <th>status</th>\n",
       "      <th>submission_date</th>\n",
       "      <th>last_update_date</th>\n",
       "      <th>type</th>\n",
       "      <th>channel_count</th>\n",
       "      <th>source_name_ch1</th>\n",
       "      <th>organism_ch1</th>\n",
       "      <th>...</th>\n",
       "      <th>contact_zip/postal_code</th>\n",
       "      <th>contact_country</th>\n",
       "      <th>instrument_model</th>\n",
       "      <th>library_selection</th>\n",
       "      <th>library_source</th>\n",
       "      <th>library_strategy</th>\n",
       "      <th>relation</th>\n",
       "      <th>supplementary_file_1</th>\n",
       "      <th>series_id</th>\n",
       "      <th>data_row_count</th>\n",
       "    </tr>\n",
       "  </thead>\n",
       "  <tbody>\n",
       "    <tr>\n",
       "      <th>0</th>\n",
       "      <td>GSM5393475</td>\n",
       "      <td>[1-N]</td>\n",
       "      <td>[GSM5393475]</td>\n",
       "      <td>[Public on Aug 29 2022]</td>\n",
       "      <td>[Jun 21 2021]</td>\n",
       "      <td>[Aug 29 2022]</td>\n",
       "      <td>[SRA]</td>\n",
       "      <td>[1]</td>\n",
       "      <td>[adjacent normal tissue]</td>\n",
       "      <td>[Homo sapiens]</td>\n",
       "      <td>...</td>\n",
       "      <td>[112]</td>\n",
       "      <td>[Taiwan]</td>\n",
       "      <td>[Illumina NextSeq 500]</td>\n",
       "      <td>[cDNA]</td>\n",
       "      <td>[transcriptomic]</td>\n",
       "      <td>[RNA-Seq]</td>\n",
       "      <td>[BioSample: https://www.ncbi.nlm.nih.gov/biosa...</td>\n",
       "      <td>[NONE]</td>\n",
       "      <td>[GSE178537]</td>\n",
       "      <td>[0]</td>\n",
       "    </tr>\n",
       "    <tr>\n",
       "      <th>1</th>\n",
       "      <td>GSM5393476</td>\n",
       "      <td>[1-VT]</td>\n",
       "      <td>[GSM5393476]</td>\n",
       "      <td>[Public on Aug 29 2022]</td>\n",
       "      <td>[Jun 21 2021]</td>\n",
       "      <td>[Aug 29 2022]</td>\n",
       "      <td>[SRA]</td>\n",
       "      <td>[1]</td>\n",
       "      <td>[Primary Tumor (Invasive front)]</td>\n",
       "      <td>[Homo sapiens]</td>\n",
       "      <td>...</td>\n",
       "      <td>[112]</td>\n",
       "      <td>[Taiwan]</td>\n",
       "      <td>[Illumina NextSeq 500]</td>\n",
       "      <td>[cDNA]</td>\n",
       "      <td>[transcriptomic]</td>\n",
       "      <td>[RNA-Seq]</td>\n",
       "      <td>[BioSample: https://www.ncbi.nlm.nih.gov/biosa...</td>\n",
       "      <td>[NONE]</td>\n",
       "      <td>[GSE178537]</td>\n",
       "      <td>[0]</td>\n",
       "    </tr>\n",
       "    <tr>\n",
       "      <th>2</th>\n",
       "      <td>GSM5393477</td>\n",
       "      <td>[1-IT]</td>\n",
       "      <td>[GSM5393477]</td>\n",
       "      <td>[Public on Aug 29 2022]</td>\n",
       "      <td>[Jun 21 2021]</td>\n",
       "      <td>[Aug 29 2022]</td>\n",
       "      <td>[SRA]</td>\n",
       "      <td>[1]</td>\n",
       "      <td>[Primary Tumor (Inner site)]</td>\n",
       "      <td>[Homo sapiens]</td>\n",
       "      <td>...</td>\n",
       "      <td>[112]</td>\n",
       "      <td>[Taiwan]</td>\n",
       "      <td>[Illumina NextSeq 500]</td>\n",
       "      <td>[cDNA]</td>\n",
       "      <td>[transcriptomic]</td>\n",
       "      <td>[RNA-Seq]</td>\n",
       "      <td>[BioSample: https://www.ncbi.nlm.nih.gov/biosa...</td>\n",
       "      <td>[NONE]</td>\n",
       "      <td>[GSE178537]</td>\n",
       "      <td>[0]</td>\n",
       "    </tr>\n",
       "    <tr>\n",
       "      <th>3</th>\n",
       "      <td>GSM5393478</td>\n",
       "      <td>[2-N]</td>\n",
       "      <td>[GSM5393478]</td>\n",
       "      <td>[Public on Aug 29 2022]</td>\n",
       "      <td>[Jun 21 2021]</td>\n",
       "      <td>[Aug 29 2022]</td>\n",
       "      <td>[SRA]</td>\n",
       "      <td>[1]</td>\n",
       "      <td>[adjacent normal tissue]</td>\n",
       "      <td>[Homo sapiens]</td>\n",
       "      <td>...</td>\n",
       "      <td>[112]</td>\n",
       "      <td>[Taiwan]</td>\n",
       "      <td>[Illumina NextSeq 500]</td>\n",
       "      <td>[cDNA]</td>\n",
       "      <td>[transcriptomic]</td>\n",
       "      <td>[RNA-Seq]</td>\n",
       "      <td>[BioSample: https://www.ncbi.nlm.nih.gov/biosa...</td>\n",
       "      <td>[NONE]</td>\n",
       "      <td>[GSE178537]</td>\n",
       "      <td>[0]</td>\n",
       "    </tr>\n",
       "    <tr>\n",
       "      <th>4</th>\n",
       "      <td>GSM5393479</td>\n",
       "      <td>[2-IT]</td>\n",
       "      <td>[GSM5393479]</td>\n",
       "      <td>[Public on Aug 29 2022]</td>\n",
       "      <td>[Jun 21 2021]</td>\n",
       "      <td>[Aug 29 2022]</td>\n",
       "      <td>[SRA]</td>\n",
       "      <td>[1]</td>\n",
       "      <td>[Primary Tumor (Inner site)]</td>\n",
       "      <td>[Homo sapiens]</td>\n",
       "      <td>...</td>\n",
       "      <td>[112]</td>\n",
       "      <td>[Taiwan]</td>\n",
       "      <td>[Illumina NextSeq 500]</td>\n",
       "      <td>[cDNA]</td>\n",
       "      <td>[transcriptomic]</td>\n",
       "      <td>[RNA-Seq]</td>\n",
       "      <td>[BioSample: https://www.ncbi.nlm.nih.gov/biosa...</td>\n",
       "      <td>[NONE]</td>\n",
       "      <td>[GSE178537]</td>\n",
       "      <td>[0]</td>\n",
       "    </tr>\n",
       "  </tbody>\n",
       "</table>\n",
       "<p>5 rows × 33 columns</p>\n",
       "</div>"
      ],
      "text/plain": [
       "       GSM_ID   title geo_accession                   status submission_date  \\\n",
       "0  GSM5393475   [1-N]  [GSM5393475]  [Public on Aug 29 2022]   [Jun 21 2021]   \n",
       "1  GSM5393476  [1-VT]  [GSM5393476]  [Public on Aug 29 2022]   [Jun 21 2021]   \n",
       "2  GSM5393477  [1-IT]  [GSM5393477]  [Public on Aug 29 2022]   [Jun 21 2021]   \n",
       "3  GSM5393478   [2-N]  [GSM5393478]  [Public on Aug 29 2022]   [Jun 21 2021]   \n",
       "4  GSM5393479  [2-IT]  [GSM5393479]  [Public on Aug 29 2022]   [Jun 21 2021]   \n",
       "\n",
       "  last_update_date   type channel_count                   source_name_ch1  \\\n",
       "0    [Aug 29 2022]  [SRA]           [1]          [adjacent normal tissue]   \n",
       "1    [Aug 29 2022]  [SRA]           [1]  [Primary Tumor (Invasive front)]   \n",
       "2    [Aug 29 2022]  [SRA]           [1]      [Primary Tumor (Inner site)]   \n",
       "3    [Aug 29 2022]  [SRA]           [1]          [adjacent normal tissue]   \n",
       "4    [Aug 29 2022]  [SRA]           [1]      [Primary Tumor (Inner site)]   \n",
       "\n",
       "     organism_ch1  ... contact_zip/postal_code contact_country  \\\n",
       "0  [Homo sapiens]  ...                   [112]        [Taiwan]   \n",
       "1  [Homo sapiens]  ...                   [112]        [Taiwan]   \n",
       "2  [Homo sapiens]  ...                   [112]        [Taiwan]   \n",
       "3  [Homo sapiens]  ...                   [112]        [Taiwan]   \n",
       "4  [Homo sapiens]  ...                   [112]        [Taiwan]   \n",
       "\n",
       "         instrument_model library_selection    library_source  \\\n",
       "0  [Illumina NextSeq 500]            [cDNA]  [transcriptomic]   \n",
       "1  [Illumina NextSeq 500]            [cDNA]  [transcriptomic]   \n",
       "2  [Illumina NextSeq 500]            [cDNA]  [transcriptomic]   \n",
       "3  [Illumina NextSeq 500]            [cDNA]  [transcriptomic]   \n",
       "4  [Illumina NextSeq 500]            [cDNA]  [transcriptomic]   \n",
       "\n",
       "  library_strategy                                           relation  \\\n",
       "0        [RNA-Seq]  [BioSample: https://www.ncbi.nlm.nih.gov/biosa...   \n",
       "1        [RNA-Seq]  [BioSample: https://www.ncbi.nlm.nih.gov/biosa...   \n",
       "2        [RNA-Seq]  [BioSample: https://www.ncbi.nlm.nih.gov/biosa...   \n",
       "3        [RNA-Seq]  [BioSample: https://www.ncbi.nlm.nih.gov/biosa...   \n",
       "4        [RNA-Seq]  [BioSample: https://www.ncbi.nlm.nih.gov/biosa...   \n",
       "\n",
       "  supplementary_file_1    series_id data_row_count  \n",
       "0               [NONE]  [GSE178537]            [0]  \n",
       "1               [NONE]  [GSE178537]            [0]  \n",
       "2               [NONE]  [GSE178537]            [0]  \n",
       "3               [NONE]  [GSE178537]            [0]  \n",
       "4               [NONE]  [GSE178537]            [0]  \n",
       "\n",
       "[5 rows x 33 columns]"
      ]
     },
     "execution_count": 14,
     "metadata": {},
     "output_type": "execute_result"
    }
   ],
   "source": [
    "# Collect sample metadata into a DataFrame\n",
    "meta_df = pd.DataFrame({gsm_name: gsm.metadata for gsm_name, gsm in gse.gsms.items()}).T\n",
    "meta_df.reset_index(inplace=True)\n",
    "meta_df.rename(columns={\"index\": \"GSM_ID\"}, inplace=True)\n",
    "\n",
    "# Preview metadata\n",
    "meta_df.head()\n"
   ]
  },
  {
   "cell_type": "code",
   "execution_count": 16,
   "id": "125b9336-24e0-4338-8779-25d83398d1be",
   "metadata": {},
   "outputs": [
    {
     "name": "stdout",
     "output_type": "stream",
     "text": [
      "RangeIndex(start=0, stop=0, step=1)\n",
      "Empty DataFrame\n",
      "Columns: []\n",
      "Index: []\n"
     ]
    }
   ],
   "source": [
    "# Check the first sample's table\n",
    "sample_gsm = list(gse.gsms.values())[0]\n",
    "print(sample_gsm.table.columns)\n",
    "print(sample_gsm.table.head())\n"
   ]
  },
  {
   "cell_type": "code",
   "execution_count": 15,
   "id": "f33c5321-f782-4d6b-acb6-7f7be5ded3fb",
   "metadata": {},
   "outputs": [
    {
     "ename": "KeyError",
     "evalue": "\"None of [Index(['ID_REF', 'VALUE'], dtype='object')] are in the [columns]\"",
     "output_type": "error",
     "traceback": [
      "\u001b[31m---------------------------------------------------------------------------\u001b[39m",
      "\u001b[31mKeyError\u001b[39m                                  Traceback (most recent call last)",
      "\u001b[36mCell\u001b[39m\u001b[36m \u001b[39m\u001b[32mIn[15]\u001b[39m\u001b[32m, line 4\u001b[39m\n\u001b[32m      2\u001b[39m expression_data = []\n\u001b[32m      3\u001b[39m \u001b[38;5;28;01mfor\u001b[39;00m gsm_name, gsm \u001b[38;5;129;01min\u001b[39;00m gse.gsms.items():\n\u001b[32m----> \u001b[39m\u001b[32m4\u001b[39m     df = gsm.table[[\u001b[33m\"\u001b[39m\u001b[33mID_REF\u001b[39m\u001b[33m\"\u001b[39m, \u001b[33m\"\u001b[39m\u001b[33mVALUE\u001b[39m\u001b[33m\"\u001b[39m]].copy()\n\u001b[32m      5\u001b[39m     df.columns = [\u001b[33m\"\u001b[39m\u001b[33mID_REF\u001b[39m\u001b[33m\"\u001b[39m, gsm_name]\n\u001b[32m      6\u001b[39m     df.set_index(\u001b[33m\"\u001b[39m\u001b[33mID_REF\u001b[39m\u001b[33m\"\u001b[39m, inplace=\u001b[38;5;28;01mTrue\u001b[39;00m)\n",
      "\u001b[36mFile \u001b[39m\u001b[32m~\\anaconda3\\envs\\myenv\\Lib\\site-packages\\pandas\\core\\frame.py:4113\u001b[39m, in \u001b[36mDataFrame.__getitem__\u001b[39m\u001b[34m(self, key)\u001b[39m\n\u001b[32m   4111\u001b[39m     \u001b[38;5;28;01mif\u001b[39;00m is_iterator(key):\n\u001b[32m   4112\u001b[39m         key = \u001b[38;5;28mlist\u001b[39m(key)\n\u001b[32m-> \u001b[39m\u001b[32m4113\u001b[39m     indexer = \u001b[38;5;28mself\u001b[39m.columns._get_indexer_strict(key, \u001b[33m\"\u001b[39m\u001b[33mcolumns\u001b[39m\u001b[33m\"\u001b[39m)[\u001b[32m1\u001b[39m]\n\u001b[32m   4115\u001b[39m \u001b[38;5;66;03m# take() does not accept boolean indexers\u001b[39;00m\n\u001b[32m   4116\u001b[39m \u001b[38;5;28;01mif\u001b[39;00m \u001b[38;5;28mgetattr\u001b[39m(indexer, \u001b[33m\"\u001b[39m\u001b[33mdtype\u001b[39m\u001b[33m\"\u001b[39m, \u001b[38;5;28;01mNone\u001b[39;00m) == \u001b[38;5;28mbool\u001b[39m:\n",
      "\u001b[36mFile \u001b[39m\u001b[32m~\\anaconda3\\envs\\myenv\\Lib\\site-packages\\pandas\\core\\indexes\\base.py:6212\u001b[39m, in \u001b[36mIndex._get_indexer_strict\u001b[39m\u001b[34m(self, key, axis_name)\u001b[39m\n\u001b[32m   6209\u001b[39m \u001b[38;5;28;01melse\u001b[39;00m:\n\u001b[32m   6210\u001b[39m     keyarr, indexer, new_indexer = \u001b[38;5;28mself\u001b[39m._reindex_non_unique(keyarr)\n\u001b[32m-> \u001b[39m\u001b[32m6212\u001b[39m \u001b[38;5;28mself\u001b[39m._raise_if_missing(keyarr, indexer, axis_name)\n\u001b[32m   6214\u001b[39m keyarr = \u001b[38;5;28mself\u001b[39m.take(indexer)\n\u001b[32m   6215\u001b[39m \u001b[38;5;28;01mif\u001b[39;00m \u001b[38;5;28misinstance\u001b[39m(key, Index):\n\u001b[32m   6216\u001b[39m     \u001b[38;5;66;03m# GH 42790 - Preserve name from an Index\u001b[39;00m\n",
      "\u001b[36mFile \u001b[39m\u001b[32m~\\anaconda3\\envs\\myenv\\Lib\\site-packages\\pandas\\core\\indexes\\base.py:6261\u001b[39m, in \u001b[36mIndex._raise_if_missing\u001b[39m\u001b[34m(self, key, indexer, axis_name)\u001b[39m\n\u001b[32m   6259\u001b[39m \u001b[38;5;28;01mif\u001b[39;00m nmissing:\n\u001b[32m   6260\u001b[39m     \u001b[38;5;28;01mif\u001b[39;00m nmissing == \u001b[38;5;28mlen\u001b[39m(indexer):\n\u001b[32m-> \u001b[39m\u001b[32m6261\u001b[39m         \u001b[38;5;28;01mraise\u001b[39;00m \u001b[38;5;167;01mKeyError\u001b[39;00m(\u001b[33mf\u001b[39m\u001b[33m\"\u001b[39m\u001b[33mNone of [\u001b[39m\u001b[38;5;132;01m{\u001b[39;00mkey\u001b[38;5;132;01m}\u001b[39;00m\u001b[33m] are in the [\u001b[39m\u001b[38;5;132;01m{\u001b[39;00maxis_name\u001b[38;5;132;01m}\u001b[39;00m\u001b[33m]\u001b[39m\u001b[33m\"\u001b[39m)\n\u001b[32m   6263\u001b[39m     not_found = \u001b[38;5;28mlist\u001b[39m(ensure_index(key)[missing_mask.nonzero()[\u001b[32m0\u001b[39m]].unique())\n\u001b[32m   6264\u001b[39m     \u001b[38;5;28;01mraise\u001b[39;00m \u001b[38;5;167;01mKeyError\u001b[39;00m(\u001b[33mf\u001b[39m\u001b[33m\"\u001b[39m\u001b[38;5;132;01m{\u001b[39;00mnot_found\u001b[38;5;132;01m}\u001b[39;00m\u001b[33m not in index\u001b[39m\u001b[33m\"\u001b[39m)\n",
      "\u001b[31mKeyError\u001b[39m: \"None of [Index(['ID_REF', 'VALUE'], dtype='object')] are in the [columns]\""
     ]
    }
   ],
   "source": [
    "# Merge expression values from each sample\n",
    "expression_data = []\n",
    "for gsm_name, gsm in gse.gsms.items():\n",
    "    df = gsm.table[[\"ID_REF\", \"VALUE\"]].copy()\n",
    "    df.columns = [\"ID_REF\", gsm_name]\n",
    "    df.set_index(\"ID_REF\", inplace=True)\n",
    "    expression_data.append(df)\n",
    "\n",
    "# Merge all into one DataFrame\n",
    "expr_matrix = pd.concat(expression_data, axis=1)\n",
    "\n",
    "# Preview expression matrix\n",
    "expr_matrix.head()\n"
   ]
  },
  {
   "cell_type": "code",
   "execution_count": null,
   "id": "fac39df2-24ff-45ba-bd0a-254d64f7f5eb",
   "metadata": {},
   "outputs": [],
   "source": []
  }
 ],
 "metadata": {
  "kernelspec": {
   "display_name": "Python 3 (myenv)",
   "language": "python",
   "name": "myenv"
  },
  "language_info": {
   "codemirror_mode": {
    "name": "ipython",
    "version": 3
   },
   "file_extension": ".py",
   "mimetype": "text/x-python",
   "name": "python",
   "nbconvert_exporter": "python",
   "pygments_lexer": "ipython3",
   "version": "3.11.13"
  }
 },
 "nbformat": 4,
 "nbformat_minor": 5
}
